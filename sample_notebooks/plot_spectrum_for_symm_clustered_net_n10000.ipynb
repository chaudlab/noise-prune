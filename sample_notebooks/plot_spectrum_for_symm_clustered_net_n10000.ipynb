{
 "cells": [
  {
   "cell_type": "code",
   "execution_count": 12,
   "metadata": {},
   "outputs": [],
   "source": [
    "import sys, os, glob \n",
    "import datetime, time\n",
    "\n",
    "import numpy as np\n",
    "from numpy import linalg as nla\n",
    "import matplotlib.pyplot as plt\n",
    "\n",
    "\n",
    "gen_fn_dir = os.path.abspath('..') + '/2020_08_nonsymm_functions/'\n",
    "sys.path.append(gen_fn_dir)\n",
    "import nonsymm_graph_fns as ngf\n",
    "import nonsymm_sparsification_fns as nsf\n",
    "import linear_net_fns as lnf\n",
    "\n",
    "gen_fn_dir = os.path.abspath('..') + '/2020_02_general_functions/'\n",
    "sys.path.append(gen_fn_dir)\n",
    "import lin_alg_fns as laf\n",
    "import figure_fns as ff\n",
    "import undirected_graph_fns as gf\n",
    "import sparsification_fns as sf\n",
    "from general_file_fns import load_pickle_file, save_pickle_file\n",
    "\n",
    "%matplotlib inline\n",
    "\n",
    "curr_date=datetime.datetime.now().strftime('%Y_%m_%d')+'_'\n",
    "\n",
    "curr_seed=int((time.time()%1)*(2**31))\n",
    "np.random.seed(curr_seed)"
   ]
  },
  {
   "cell_type": "code",
   "execution_count": 13,
   "metadata": {},
   "outputs": [],
   "source": [
    "#parameters\n",
    "n_nodes = 10000\n",
    "clusters = [6600, 1000, 1600, 100, 100, 100, 100, 100, 100, 100, 100] #cluster sizes\n",
    "sr_density = 0.6 #density of connections within clusters\n",
    "lr_tot = 5000 #total num of connections across clusters\n",
    "B_no_diag = gf.make_imb_clustered_graph(clusters, sr_density, lr_tot) #makes connectivity matrix, to be shifted\n",
    "desired_edge_frac = 0.03"
   ]
  },
  {
   "cell_type": "code",
   "execution_count": null,
   "metadata": {},
   "outputs": [],
   "source": [
    "# Make a connectivity matrix to use\n",
    "t0 = time.time()\n",
    "#diag_pad = np.diag(0.05 * np.ones(n_nodes))\n",
    "A = laf.shift_to_make_diagonally_dominant(B_no_diag, shift_type='individual', diag_type='neg')# + diag_pad #CAN EDIT THIS IF WORRIED ABOUT DIAG, currently takes abs row sum as diag (note asymmetry)\n",
    "ew_orig, ev_orig = laf.sort_eig(A, ret_ev=True)\n",
    "print(\"old smallest eigvals are {}\".format(np.real(ew_orig[-10:])))\n",
    "\n",
    "# Check that S is not too close to singular, both for the sparsification and for the simulation dynamics\n",
    "# (which would be super slow if S was near singular). Note that if the entries of S were all positive then\n",
    "# we'd be back in the graph Laplacian-like case and S would be quite close to singular.\n",
    "if np.min(np.abs(ew_orig))<1e-10:\n",
    "    print('Matrix close to singular be careful')\n",
    "t1 = time.time()"
   ]
  },
  {
   "cell_type": "code",
   "execution_count": null,
   "metadata": {},
   "outputs": [],
   "source": [
    "graph_name = '{}n{}_directed_clustered_{}_sr_d{}_lr_t{}_b-{}_ics-{}'.format(curr_date,n_nodes,clusters,\n",
    "                                                                              sr_density,lr_tot,  'constant', 'random')\n",
    "\n",
    "#make the directory for this graph, uncomment if directory does not exist yet!\n",
    "os.makedirs('{}'.format(graph_name))"
   ]
  },
  {
   "cell_type": "code",
   "execution_count": null,
   "metadata": {},
   "outputs": [],
   "source": [
    "# Set up the sparsification\n",
    "n_edges_orig = (np.count_nonzero(A) - n_nodes)/2 #got rid of division by 2 since each direction is an edge now\n",
    "desired_mean_num_edges = desired_edge_frac * n_edges_orig # Leave as a float for now since used in normalization\n",
    "print(desired_mean_num_edges)\n",
    "prob_normalization = {'norm_type' : 'sum', 'norm_val' : desired_mean_num_edges, 'max_val' : 1}\n",
    "prob_matrix, inv_diff_matrix = sf.get_sparsify_probs(A, ret_type=('samp_probs_and_diffs', 'matrix'), normalization=prob_normalization)\n",
    "control_prob_matrix = sf.get_sparsify_probs_control(A, normalization=prob_normalization)\n",
    "# _md indicates matched diagonal (i.e., comes from sampling) #only going to worry about md case for now\n",
    "A_sparse_md = sf.sparsify_given_probs(A, prob_matrix, diagonal_type='row_sum')\n",
    "# _wbc indicates weight based control\n",
    "A_sparse_wbc = sf.sparsify_given_probs(A, control_prob_matrix, diagonal_type='row_sum') #weight_based control\n",
    "diag_idx = np.diag_indices(n_nodes)\n",
    "n_edges_sparse = (np.count_nonzero(A_sparse_md) - n_nodes)/2\n",
    "print('Number of edges original {}, new {}, ratio {}'.format(n_edges_orig, n_edges_sparse, \n",
    "                                                             n_edges_sparse/n_edges_orig))"
   ]
  },
  {
   "cell_type": "code",
   "execution_count": null,
   "metadata": {},
   "outputs": [],
   "source": [
    "# Calculate some measures for how much the spectrum has changed\n",
    "spect_md = nsf.compare_spectrum(A_sparse_md, ew_orig, ev_orig, ret_ew=True)\n",
    "spect_wbc = nsf.compare_spectrum(A_sparse_wbc, ew_orig, ev_orig, ret_ew=True)\n",
    "print(spect_md.keys())"
   ]
  },
  {
   "cell_type": "code",
   "execution_count": null,
   "metadata": {},
   "outputs": [],
   "source": [
    "ew_bds = [np.min(ew_orig), np.max(ew_orig)]\n",
    "fig, ax = plt.subplots(1,2,figsize=(12,6))\n",
    "ax[0].scatter(ew_orig, spect_md['ew'])\n",
    "ax[0].plot(ew_bds, ew_bds, color='k')\n",
    "ax[1].scatter(ew_orig, spect_wbc['ew'])\n",
    "ax[1].plot(ew_bds, ew_bds, color='k')\n",
    "\n",
    "im_ct=0\n",
    "#fig.savefig('{}/{}_ew_preservation.pdf'.format(graph_name,im_ct))\n",
    "im_ct+=1"
   ]
  },
  {
   "cell_type": "code",
   "execution_count": null,
   "metadata": {},
   "outputs": [],
   "source": [
    "fig, ax = plt.subplots(1,3,figsize=(16,6))\n",
    "ax[0].boxplot([np.abs(spect_md['eps_ew']), np.abs(spect_wbc['eps_ew'])], labels = ['noise-prune', 'weights']);\n",
    "ax[0].set_ylabel('$\\epsilon_{\\lambda_i}$', fontsize = 14);\n",
    "ax[1].boxplot([np.abs(spect_md['eps_ev']), np.abs(spect_wbc['eps_ev'])], labels = ['noise-prune', 'weights']);\n",
    "ax[1].set_ylabel('$\\epsilon_{v_i}$', fontsize = 14);\n",
    "ax[2].boxplot([np.abs(spect_md['S_ev_angle']), np.abs(spect_wbc['S_ev_angle'])], labels = ['noise-prune', 'weights']);\n",
    "ax[2].set_ylabel('$\\cos{\\Theta_i}$', fontsize = 14);\n",
    "\n",
    "\n",
    "fig.savefig('{}/{}_boxplots.pdf'.format(graph_name, im_ct))\n",
    "im_ct+=1\n",
    "\n",
    "#ff.ref_axes(ax[0], labels=False)\n",
    "#ff.ref_axes(ax[1], labels=False)\n",
    "#ff.ref_axes(ax[2], labels=False)\n",
    "#fig.savefig('{}/{}_boxplots.pdf'.format(graph_name, im_ct))"
   ]
  },
  {
   "cell_type": "code",
   "execution_count": null,
   "metadata": {},
   "outputs": [],
   "source": [
    "fig, ax = plt.subplots(1,3,figsize=(16,6))\n",
    "ax[0].violinplot([np.abs(spect_md['eps_ew']), np.abs(spect_wbc['eps_ew'])], bw_method = 4)#, labels = ['noise-prune', 'weights']);\n",
    "ax[0].set_ylabel('$\\epsilon_{\\lambda_i}$', fontsize = 14);\n",
    "ax[1].violinplot([np.abs(spect_md['eps_ev']), np.abs(spect_wbc['eps_ev'])], bw_method = 4)#, labels = ['noise-prune', 'weights']);\n",
    "ax[1].set_ylabel('$\\epsilon_{v_i}$', fontsize = 14);\n",
    "ax[2].violinplot([np.abs(spect_md['S_ev_angle']), np.abs(spect_wbc['S_ev_angle'])], bw_method = 4)#, labels = ['noise-prune', 'weights']);\n",
    "ax[2].set_ylabel('$\\cos{\\Theta_i}$', fontsize = 14);\n",
    "\n",
    "\n",
    "fig.savefig('{}/{}_boxplots.pdf'.format(graph_name, im_ct))\n",
    "im_ct+=1\n",
    "\n",
    "#ff.ref_axes(ax[0], labels=False)\n",
    "#ff.ref_axes(ax[1], labels=False)\n",
    "#ff.ref_axes(ax[2], labels=False)\n",
    "#fig.savefig('{}/{}_boxplots.pdf'.format(graph_name, im_ct))"
   ]
  },
  {
   "cell_type": "code",
   "execution_count": null,
   "metadata": {},
   "outputs": [],
   "source": [
    "flierprops = dict(marker='o', markersize=3.5,\n",
    "                  linestyle='none')\n",
    "\n",
    "fig, ax = plt.subplots(1,3,figsize=(8,3))\n",
    "fig.subplots_adjust(wspace=0.45)\n",
    "ax[0].violinplot([np.abs(spect_md['eps_ew']), np.abs(spect_wbc['eps_ew'])], bw_method = 4)#, labels = ['noise-prune', 'weights']);\n",
    "ax[0].set_ylabel('$\\epsilon_{\\lambda_i}$', fontsize = 14);\n",
    "ax[1].violinplot([np.abs(spect_md['eps_ev']), np.abs(spect_wbc['eps_ev'])], bw_method = 4)#, labels = ['noise-prune', 'weights']);\n",
    "ax[1].set_ylabel('$\\epsilon_{v_i}$', fontsize = 14);\n",
    "ax[2].violinplot([np.abs(spect_md['S_ev_angle']), np.abs(spect_wbc['S_ev_angle'])], bw_method = 4)#, labels = ['noise-prune', 'weights']);\n",
    "ax[2].set_ylabel('$\\cos{\\Theta_i}$', fontsize = 14);\n",
    "ax[0].boxplot([np.abs(spect_md['eps_ew']), np.abs(spect_wbc['eps_ew'])], flierprops=flierprops, labels = ['noise-prune', 'weights']);\n",
    "ax[0].set_ylabel('$\\epsilon_{\\lambda_i}$', fontsize = 14);\n",
    "ax[1].boxplot([np.abs(spect_md['eps_ev']), np.abs(spect_wbc['eps_ev'])], flierprops=flierprops, labels = ['noise-prune', 'weights']);\n",
    "ax[1].set_ylabel('$\\epsilon_{v_i}$', fontsize = 14);\n",
    "ax[2].boxplot([np.abs(spect_md['S_ev_angle']), np.abs(spect_wbc['S_ev_angle'])], flierprops=flierprops, labels = ['noise-prune', 'weights']);\n",
    "ax[2].set_ylabel('$\\cos{\\Theta_i}$', fontsize = 14);\n",
    "\n",
    "\n",
    "fig.savefig('{}/{}_boxplots.pdf'.format(graph_name, im_ct))\n",
    "im_ct+=1\n",
    "\n",
    "#ff.ref_axes(ax[0], labels=False)\n",
    "#ff.ref_axes(ax[1], labels=False)\n",
    "#ff.ref_axes(ax[2], labels=False)\n",
    "#fig.savefig('{}/{}_boxplots.pdf'.format(graph_name, im_ct))"
   ]
  },
  {
   "cell_type": "code",
   "execution_count": null,
   "metadata": {},
   "outputs": [],
   "source": [
    "print(np.mean(np.abs(spect_md['S_ev_angle'])))\n",
    "print(np.mean(np.abs(spect_wbc['S_ev_angle'])))"
   ]
  },
  {
   "cell_type": "code",
   "execution_count": null,
   "metadata": {},
   "outputs": [],
   "source": [
    "print(len(spect_md['S_ev_angle']))\n",
    "print(len(spect_wbc['S_ev_angle']))"
   ]
  },
  {
   "cell_type": "code",
   "execution_count": null,
   "metadata": {},
   "outputs": [],
   "source": [
    "fig, ax = plt.subplots(2,3,figsize=(15,10))\n",
    "ax[0,0].hist(spect_md['eps_ew'],bins = 'auto');\n",
    "ax[0,1].hist(spect_md['eps_ev'],bins = 'auto');\n",
    "ax[0,2].hist(spect_md['S_ev_angle'],bins = 'auto');\n",
    "ax[1,0].hist(spect_wbc['eps_ew'],bins = 'auto');\n",
    "ax[1,1].hist(spect_wbc['eps_ev'],bins = 'auto');\n",
    "ax[1,2].hist(spect_wbc['S_ev_angle'],bins = 'auto');"
   ]
  },
  {
   "cell_type": "code",
   "execution_count": null,
   "metadata": {},
   "outputs": [],
   "source": [
    "#plot some of the matrices themselves\n",
    "fig, axs = plt.subplots(2, 2,figsize=(15,10))\n",
    "cm = 'viridis'\n",
    "#cm = 'RdBu_r'\n",
    "D = inv_diff_matrix# + np.transpose(inv_diff_matrix)\n",
    "Matrices = [[A - np.diag(np.diag(A)),\n",
    "            D], \n",
    "            [prob_matrix,\n",
    "            control_prob_matrix]]\n",
    "\n",
    "Labels = [['$|A|$',\n",
    "            '$D$'],\n",
    "            ['$P_{noise}$',\n",
    "            '$P_{control}$']]\n",
    "\n",
    "for col in range(2):\n",
    "    for row in range(2):\n",
    "        ax = axs[row, col]\n",
    "        ax.set_title(Labels[row][col])\n",
    "        pcm = ax.matshow(Matrices[row][col],\n",
    "                            cmap=cm)\n",
    "        fig.colorbar(pcm, ax=ax)\n",
    "\n",
    "path = os.getcwd()\n",
    "print(path)\n",
    "\n",
    "#fig.savefig('{}/{}_matrix_visual.pdf'.format(graph_name, im_ct))\n",
    "im_ct+=1"
   ]
  }
 ],
 "metadata": {
  "kernelspec": {
   "display_name": "Python 3",
   "language": "python",
   "name": "python3"
  },
  "language_info": {
   "codemirror_mode": {
    "name": "ipython",
    "version": 3
   },
   "file_extension": ".py",
   "mimetype": "text/x-python",
   "name": "python",
   "nbconvert_exporter": "python",
   "pygments_lexer": "ipython3",
   "version": "3.7.4"
  }
 },
 "nbformat": 4,
 "nbformat_minor": 2
}
