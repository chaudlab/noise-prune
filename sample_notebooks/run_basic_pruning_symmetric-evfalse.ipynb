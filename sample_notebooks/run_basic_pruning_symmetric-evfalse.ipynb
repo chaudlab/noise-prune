{
 "cells": [
  {
   "cell_type": "markdown",
   "metadata": {},
   "source": [
    "October 21st 2020  \n",
    "Run some basic symmetric pruning using the new framework"
   ]
  },
  {
   "cell_type": "code",
   "execution_count": 1,
   "metadata": {},
   "outputs": [],
   "source": [
    "import sys, os, glob \n",
    "import datetime, time\n",
    "\n",
    "import numpy as np\n",
    "from numpy import linalg as nla\n",
    "import matplotlib.pyplot as plt\n",
    "\n",
    "gen_fn_dir = os.path.abspath('..') + '/general_fns/'\n",
    "sys.path.append(gen_fn_dir)\n",
    "\n",
    "from general_file_fns import load_pickle_file, save_pickle_file\n",
    "import linear_net_fns as lnf\n",
    "import lin_alg_fns as laf\n",
    "import undirected_graph_fns as gf\n",
    "import combined_sparsification_fns as csf\n",
    "\n",
    "%matplotlib inline\n",
    "\n",
    "curr_date=datetime.datetime.now().strftime('%Y_%m_%d')+'_'\n",
    "\n",
    "sd = int((time.time()%1)*(2**31))\n",
    "np.random.seed(sd)"
   ]
  },
  {
   "cell_type": "code",
   "execution_count": 2,
   "metadata": {},
   "outputs": [
    {
     "name": "stdout",
     "output_type": "stream",
     "text": [
      "Time to make matrix  10.852299213409424\n",
      "-1.2273827477650583 -0.03182701350810497\n"
     ]
    }
   ],
   "source": [
    "# Make connectivity matrix\n",
    "t0 = time.time()\n",
    "n_nodes = 2000\n",
    "matrix_type = 'clustered'\n",
    "\n",
    "#these parameters are only relevant for the matrix_type = 'clustered' case\n",
    "cl_1 = 1000 #size of first cluster\n",
    "cl_2 = 200 \n",
    "cl_3 = 800\n",
    "sr_density = 0.6 #density of connections within clusters\n",
    "lr_tot = 5000 #total number of connections across clusters\n",
    "\n",
    "A_non_dd = gf.make_imb_clustered_graph([cl_1,cl_2,cl_3], sr_density, lr_tot)\n",
    "\n",
    "A = laf.shift_to_make_diagonally_dominant(A_non_dd, shift_type='individual', diag_type='neg')\n",
    "\n",
    "ew_orig, ev_orig = laf.sort_eig(A, ret_ev=True, hermitian=True)\n",
    "\n",
    "print('Time to make matrix ', time.time()-t0)\n",
    "print(np.min(ew_orig), np.max(ew_orig))"
   ]
  },
  {
   "cell_type": "code",
   "execution_count": 3,
   "metadata": {},
   "outputs": [
    {
     "name": "stdout",
     "output_type": "stream",
     "text": [
      "202120.0\n"
     ]
    }
   ],
   "source": [
    "# Get the normalized probs\n",
    "desired_edge_frac = 0.20\n",
    "n_edges_orig = (np.count_nonzero(A) - n_nodes) \n",
    "\n",
    "desired_mean_num_edges = desired_edge_frac * n_edges_orig # Leave as a float for now since used in normalization\n",
    "print(desired_mean_num_edges)\n",
    "prob_normalization = {'norm_type' : 'sum', 'norm_val' : desired_mean_num_edges, 'max_val' : 1}\n",
    "prob_matrix, inv_diff_matrix = csf.get_sparsify_probs(A, normalization=prob_normalization, return_diffs=True,\n",
    "                                                             matrix_type='symmetric')\n",
    "prob_matrix_up = np.triu(prob_matrix)"
   ]
  },
  {
   "cell_type": "code",
   "execution_count": 4,
   "metadata": {},
   "outputs": [
    {
     "name": "stdout",
     "output_type": "stream",
     "text": [
      "Maximum rescale  815.9982015616018\n",
      "Number of edges original 1010600, new 197404, ratio 0.19533346526815754, desired density 0.2\n"
     ]
    }
   ],
   "source": [
    "# Now to sparsify\n",
    "# Set seed\n",
    "sd = int((time.time()%1)*(2**31))\n",
    "np.random.seed(sd)\n",
    "\n",
    "A_sparse_np = csf.sparsify_given_probs(A, prob_matrix_up, symmetric=True, diagonal_type='row_sum')\n",
    "n_edges_sparse = (np.count_nonzero(A_sparse_np) - n_nodes)\n",
    "print('Number of edges original {}, new {}, ratio {}, desired density {}'.format(\n",
    "    n_edges_orig, n_edges_sparse, n_edges_sparse/n_edges_orig, desired_edge_frac))"
   ]
  },
  {
   "cell_type": "code",
   "execution_count": 5,
   "metadata": {},
   "outputs": [
    {
     "name": "stdout",
     "output_type": "stream",
     "text": [
      "0.0\n"
     ]
    }
   ],
   "source": [
    "print(nla.norm(A_sparse_np - A_sparse_np.T))"
   ]
  },
  {
   "cell_type": "code",
   "execution_count": 6,
   "metadata": {},
   "outputs": [
    {
     "name": "stdout",
     "output_type": "stream",
     "text": [
      "202120.0\n"
     ]
    }
   ],
   "source": [
    "# Control\n",
    "desired_mean_num_edges = desired_edge_frac * n_edges_orig # Leave as a float for now since used in normalization\n",
    "print(desired_mean_num_edges)\n",
    "prob_normalization = {'norm_type' : 'sum', 'norm_val' : desired_mean_num_edges, 'max_val' : 1}\n",
    "wt_prob_matrix = csf.get_sparsify_probs_control(A, normalization=prob_normalization)\n",
    "wt_prob_matrix_up = np.triu(wt_prob_matrix)\n"
   ]
  },
  {
   "cell_type": "code",
   "execution_count": 7,
   "metadata": {},
   "outputs": [
    {
     "name": "stdout",
     "output_type": "stream",
     "text": [
      "Maximum rescale  703.9745037034415\n",
      "Number of edges original 1010600, new 201664, ratio 0.19954878290124678, desired density 0.2\n"
     ]
    }
   ],
   "source": [
    "# Control pruning\n",
    "# Set seed\n",
    "sd = int((time.time()%1)*(2**31))\n",
    "np.random.seed(sd)\n",
    "\n",
    "A_sparse_wbc = csf.sparsify_given_probs(A, wt_prob_matrix_up, symmetric=True, diagonal_type='row_sum')\n",
    "n_edges_sparse = (np.count_nonzero(A_sparse_wbc) - n_nodes)\n",
    "print('Number of edges original {}, new {}, ratio {}, desired density {}'.format(\n",
    "    n_edges_orig, n_edges_sparse, n_edges_sparse/n_edges_orig, desired_edge_frac))"
   ]
  },
  {
   "cell_type": "code",
   "execution_count": 8,
   "metadata": {},
   "outputs": [],
   "source": [
    "# Calculate and compare the spectra of pruned to unpruned networks\n",
    "spect_np = csf.compare_spectrum(A_sparse_np, ew_orig, ev_orig, ret_ew=True)\n",
    "spect_wbc = csf.compare_spectrum(A_sparse_wbc, ew_orig, ev_orig, ret_ew=True)"
   ]
  },
  {
   "cell_type": "code",
   "execution_count": null,
   "metadata": {},
   "outputs": [
    {
     "name": "stdout",
     "output_type": "stream",
     "text": [
      "Sim 0, time 55.232897996902466\n",
      "Sim 1, time 112.98052835464478\n",
      "Sim 2, time 169.53374123573303\n",
      "Sim 3, time 230.79451894760132\n",
      "Sim 4, time 289.82171297073364\n",
      "Sim 5, time 347.5210871696472\n"
     ]
    }
   ],
   "source": [
    "# Now simulate the three networks (original, noise-prune, control) with these inputs. \n",
    "ev_as_input = False #False corresponds to random input\n",
    "dt = 5e-3\n",
    "n_steps = int(8e3+1) #number of timesteps, n_steps*dt = total time simulated for\n",
    "sim_times = dt * np.arange(n_steps)\n",
    "sig = 0.01 #standard deviation of Gaussian white noise used in simulation\n",
    "sim_params = {'dt' : dt, 'n_steps' : n_steps, 'noise_std' : sig} #, 'input' : input_b, 'ics' : ics}\n",
    "\n",
    "n_sims = 20\n",
    "\n",
    "list_of_rel_diff_wbc_mag_across_time = []\n",
    "list_of_rel_diff_np_mag_across_time = []\n",
    "\n",
    "t0 = time.time()\n",
    "for curr_sim in range(n_sims):\n",
    "    # Randomize for initial conditions (only relevant if using random ICs)\n",
    "    sd = int((time.time()%1)*(2**31))\n",
    "    np.random.seed(sd)\n",
    "    \n",
    "    # Set initial conditions and background input\n",
    "    if ev_as_input:\n",
    "        # for a small index i, ev_orig[:-i] has eigenvalue closer to 0 [i.e., slow time-scales]\n",
    "        sim_params['ics'] = ev_orig[:, -curr_sim-1]\n",
    "        # Make bg input the same as eigenvector to keep on eigenvector direction\n",
    "        sim_params['input'] = np.tile(sim_params['ics'], (n_steps, 1))\n",
    "    else:\n",
    "        sim_params['ics'] = np.random.rand(n_nodes)\n",
    "        # sim_params['input'] = np.tile(sim_params['ics'], (n_steps, 1))\n",
    "        sim_params['input'] = 0.0002 * np.ones((n_steps, n_nodes))\n",
    "    \n",
    "    sd = int((time.time()%1)*(2**31))\n",
    "    \n",
    "    # Reset the seed before each so that the noise is always the same\n",
    "    np.random.seed(sd)\n",
    "    x_orig = lnf.sim_linear_net(A, sim_params)\n",
    "    \n",
    "    np.random.seed(sd)\n",
    "    x_np = lnf.sim_linear_net(A_sparse_np, sim_params)\n",
    "\n",
    "    np.random.seed(sd)\n",
    "    x_wbc = lnf.sim_linear_net(A_sparse_wbc, sim_params)\n",
    "\n",
    "    #compute ||x_{orig} - x_{wbc}||_2 and ||x_{orig} - x_{np}||_2\n",
    "    diff_wbc_matrix = x_orig - x_wbc\n",
    "    diff_np_matrix = x_orig - x_np\n",
    "    diff_wbc_mag_across_time = nla.norm(diff_wbc_matrix, axis=1)\n",
    "    diff_np_mag_across_time = nla.norm(diff_np_matrix, axis=1)\n",
    "\n",
    "    #compute ||x_{orig}||_2 and ||x_{orig}||_2 in order to compute relative errors\n",
    "    sum_wbc_mag_across_time = nla.norm(x_orig, axis=1) \n",
    "    sum_np_mag_across_time = nla.norm(x_orig, axis=1)\n",
    "\n",
    "    list_of_rel_diff_wbc_mag_across_time.append(diff_wbc_mag_across_time/sum_wbc_mag_across_time)\n",
    "    list_of_rel_diff_np_mag_across_time.append(diff_np_mag_across_time/sum_np_mag_across_time)\n",
    "\n",
    "    print('Sim {}, time {}'.format(curr_sim, time.time()-t0))\n",
    "\n",
    "mean_rel_diff_wbc_mag_across_time = np.mean(list_of_rel_diff_wbc_mag_across_time, axis=0)\n",
    "mean_rel_diff_np_mag_across_time = np.mean(list_of_rel_diff_np_mag_across_time, axis=0)\n",
    "std_rel_diff_wbc_mag_across_time = np.std(list_of_rel_diff_wbc_mag_across_time, axis=0)\n",
    "std_rel_diff_np_mag_across_time = np.std(list_of_rel_diff_np_mag_across_time, axis=0)"
   ]
  },
  {
   "cell_type": "code",
   "execution_count": null,
   "metadata": {},
   "outputs": [],
   "source": [
    "# Save spectrum data and dynamics data\n",
    "data = {'n_nodes': n_nodes, 'matrix_type': matrix_type,\n",
    "    'spect_np_eps_ew' : np.abs(spect_np['eps_ew']),'spect_wbc_eps_ew' : np.abs(spect_wbc['eps_ew']), \n",
    "    'spect_np_eps_ev' : np.abs(spect_np['eps_ev']),'spect_wbc_eps_ev' : np.abs(spect_wbc['eps_ev']),\n",
    "    'spect_np_S_ev_angle' : np.abs(spect_np['S_ev_angle']),'spect_wbc_S_ev_angle' : np.abs(spect_wbc['S_ev_angle']),\n",
    "    'mean_rel_diff_np_mag_across_time' : mean_rel_diff_np_mag_across_time, 'mean_rel_diff_wbc_mag_across_time' : mean_rel_diff_wbc_mag_across_time,\n",
    "    'std_rel_diff_np_mag_across_time' : std_rel_diff_np_mag_across_time, 'std_rel_diff_wbc_mag_across_time' : std_rel_diff_wbc_mag_across_time}\n",
    "\n",
    "# save_pickle_file(data, 'n_{}_{}_{}_ev_input_{}_data.p'.format(n_nodes, 'clustered', 'symm', ev_as_input))\n",
    "\n",
    "graph_name = 'n_{}_{}_{}_ev_input_{}'.format(n_nodes, 'clustered', 'symm', ev_as_input)\n",
    "\n",
    "os.makedirs('{}'.format(graph_name)) "
   ]
  },
  {
   "cell_type": "code",
   "execution_count": null,
   "metadata": {},
   "outputs": [],
   "source": [
    "# Plot the spectra\n",
    "fig, ax = plt.subplots(1,3,figsize=(16,6))\n",
    "ax[0].boxplot([data['spect_np_eps_ew'], data['spect_wbc_eps_ew']], labels = ['noise-prune', 'weights']);\n",
    "ax[0].set_ylabel('$\\epsilon_{\\lambda_i}$', fontsize = 14);\n",
    "ax[1].boxplot([data['spect_np_eps_ev'], data['spect_wbc_eps_ev']], labels = ['noise-prune', 'weights']);\n",
    "ax[1].set_ylabel('$\\epsilon_{v_i}$', fontsize = 14);\n",
    "ax[2].boxplot([data['spect_np_S_ev_angle'], data['spect_wbc_S_ev_angle']], labels = ['noise-prune', 'weights']);\n",
    "ax[2].set_ylabel('$\\cos{\\Theta_i}$', fontsize = 14);"
   ]
  },
  {
   "cell_type": "code",
   "execution_count": null,
   "metadata": {},
   "outputs": [],
   "source": [
    "fig, ax = plt.subplots(1,1,figsize=(13,6))\n",
    "for i, x in enumerate(list_of_rel_diff_np_mag_across_time):\n",
    "    ax.plot(sim_times, x, color='r')\n",
    "for i, x in enumerate(list_of_rel_diff_wbc_mag_across_time):\n",
    "    ax.plot(sim_times, x, color='b')"
   ]
  },
  {
   "cell_type": "code",
   "execution_count": null,
   "metadata": {},
   "outputs": [],
   "source": [
    "fig, ax = plt.subplots( figsize=(3,3)) #should be 3,3#\n",
    "ax.plot(sim_times, data['mean_rel_diff_wbc_mag_across_time'], label='weight-based-control', color='#1034A6')\n",
    "ax.fill_between(sim_times, data['mean_rel_diff_wbc_mag_across_time']- data['std_rel_diff_wbc_mag_across_time'], data['mean_rel_diff_wbc_mag_across_time'] + data['std_rel_diff_wbc_mag_across_time'], color='#1034A6', alpha=0.3)\n",
    "ax.plot(sim_times, data['mean_rel_diff_np_mag_across_time'], label='noise-prune', color='#A91101')\n",
    "ax.fill_between(sim_times, data['mean_rel_diff_np_mag_across_time'] - data['std_rel_diff_np_mag_across_time'], data['mean_rel_diff_np_mag_across_time'] + data['std_rel_diff_np_mag_across_time'] , color='#A91101', alpha=0.3)\n",
    "ax.set_xticks([0, 10, 20, 30, 40])\n",
    "ax.set_yticks([0, 1.2])\n",
    "\n",
    "\n",
    "fig.savefig('{}/{}_rel_error2norm.pdf'.format(graph_name,graph_name), transparent=False,  bbox_inches='tight', dpi=1000)\n",
    "#ff.ref_axes(ax, labels=False)\n",
    "#fig.savefig('{}/{}_rel_error2norm.pdf'.format(graph_name,graph_name), transparent=False,  bbox_inches='tight', dpi=1000)\n"
   ]
  },
  {
   "cell_type": "code",
   "execution_count": null,
   "metadata": {},
   "outputs": [],
   "source": []
  }
 ],
 "metadata": {
  "kernelspec": {
   "display_name": "Python 3",
   "language": "python",
   "name": "python3"
  },
  "language_info": {
   "codemirror_mode": {
    "name": "ipython",
    "version": 3
   },
   "file_extension": ".py",
   "mimetype": "text/x-python",
   "name": "python",
   "nbconvert_exporter": "python",
   "pygments_lexer": "ipython3",
   "version": "3.7.4"
  }
 },
 "nbformat": 4,
 "nbformat_minor": 2
}
